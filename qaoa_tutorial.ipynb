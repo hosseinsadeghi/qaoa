{
 "cells": [
  {
   "cell_type": "code",
   "execution_count": 97,
   "id": "2e1ac7fc",
   "metadata": {},
   "outputs": [],
   "source": [
    "import numpy as np\n",
    "from qiskit import QuantumCircuit\n",
    "import numpy as np\n",
    "import networkx as nx\n",
    "import matplotlib.pyplot as plt\n",
    "from scipy.optimize import minimize\n",
    "from qiskit import QuantumCircuit\n",
    "from qiskit_aer import Aer\n"
   ]
  },
  {
   "cell_type": "markdown",
   "id": "94f47077",
   "metadata": {},
   "source": [
    "## Introduction to Optimization Problems\n",
    "\n",
    "Optimization problems involve finding the best solution from a set of possible choices, often under certain constraints. In many real-world scenarios, such as scheduling, resource allocation, or network design, we want to maximize or minimize an objective function. \n",
    "\n",
    "Quantum computing offers new approaches to tackle these problems, such as using the Quantum Approximate Optimization Algorithm (QAOA) to solve combinatorial optimization tasks. This algorithm does not gaurantee quantum speed up over best existing classical methods in the general case. Nevertheless, this algorithm offers a great gateway to the world of quantum computing as it allows experimenting with quantum algorithms on a practical task with a relatively light knowledge of quantum computing. \n",
    "\n",
    "***"
   ]
  },
  {
   "cell_type": "markdown",
   "id": "902ce52c",
   "metadata": {},
   "source": [
    "### Maximum Independent Set as an Optimization Problem\n",
    "\n",
    "The Maximum Independent Set (MIS) problem is a classic example of a combinatorial optimization problem. Given a graph, an independent set is a subset of vertices such that no two vertices in the set are connected by an edge. The goal of the MIS problem is to find the largest possible independent set in the graph. Formally, for a graph $G = (V, E)$, the task is to select a subset of vertices $S \\subseteq V$ such that for every edge $(u, v) \\in E$, at most one of $u$ or $v$ is in $S$, and the size of $S$ is maximized.\n",
    "\n",
    "This problem can be formulated as an optimization problem by introducing binary variables $x_i$ for each vertex $i$, where $x_i = 1$ if vertex $i$ is included in the independent set, and $x_i = 0$ otherwise. The objective is to maximize the sum $\\sum_i x_i$, subject to the constraint that $x_i + x_j \\leq 1$ for every edge $(i, j)$. Quantum algorithms like QAOA can be used to solve the MIS problem by encoding it into a Quadratic Unconstrained Binary Optimization (QUBO) form, making it suitable for quantum optimization techniques.\n",
    "\n",
    "***"
   ]
  },
  {
   "cell_type": "markdown",
   "id": "d0bd26a6",
   "metadata": {},
   "source": [
    "### Converting the Constraint $x_i + x_j \\leq 1$ to QUBO Form\n",
    "\n",
    "To encode the constraint $x_i + x_j \\leq 1$ for the Maximum Independent Set (MIS) problem into a QUBO (Quadratic Unconstrained Binary Optimization) form, we penalize any solution where both $x_i = 1$ and $x_j = 1$. In this case, we can easily infer that the penalty term $x_i x_j$ will enfore our desired constraint. However, as a practical guide for more complex constraint we can use the following general methods. \n",
    "\n",
    "A standard approach is to add a penalty term for each edge $(i, j)$:\n",
    "$$\n",
    "P_{ij} = a(x_i + x_j) + b x_i x_j + c\n",
    "$$\n",
    "\n",
    "Here we assume that the coefficient of $x_i$ and $x_j$ is the same due to symmetry. We want $P_{ij} = 0$ when $x_i + x_j \\leq 1$, and $P_{ij} > 0$ when $x_i = x_j = 1$.\n",
    "\n",
    "Let's determine $a$, $b$, and $c$:\n",
    "\n",
    "- If $x_i = 0, x_j = 0$: $P_{ij} = c$\n",
    "- If $x_i = 1, x_j = 0$ or $x_i = 0, x_j = 1$: $P_{ij} = a + c$\n",
    "- If $x_i = 1, x_j = 1$: $P_{ij} = 2a + b + c$\n",
    "\n",
    "We want:\n",
    "- $P_{ij} = 0$ for $(0,0)$ and $(1,0)$ or $(0,1)$\n",
    "- $P_{ij} = \\lambda$ (penalty) for $(1,1)$\n",
    "\n",
    "Set $c = 0$, $a = 0$, $b = \\lambda$:\n",
    "\n",
    "$$\n",
    "P_{ij} = \\lambda x_i x_j\n",
    "$$\n",
    "\n",
    "***\n",
    "\n",
    "### Full QUBO Objective for MIS\n",
    "\n",
    "The MIS objective is to maximize the size of the independent set, i.e., minimize $-\\sum_i x_i$, while penalizing adjacent vertices both being in the set:\n",
    "\n",
    "$$\n",
    "\\text{minimize:} \\quad -\\sum_i x_i + \\lambda \\sum_{(i, j) \\in E} x_i x_j\n",
    "$$\n",
    "\n",
    "where $x_i \\in \\{0, 1\\}$ and $\\lambda$ is chosen large enough to enforce the constraint.\n",
    "\n",
    "***"
   ]
  },
  {
   "cell_type": "markdown",
   "id": "005f6ff7",
   "metadata": {},
   "source": [
    "### Motivation for QUBO-to-Ising Conversion\n",
    "\n",
    "Quantum hardware often implements Hamiltonians in the Ising form, using spin variables $z_i \\in \\{-1, +1\\}$, while combinatorial optimization problems are typically formulated as QUBO with binary variables $x_i \\in \\{0, 1\\}$. To run QUBO problems on quantum devices, we must convert the QUBO objective to the Ising form.\n",
    "\n",
    "### QUBO to Ising Mapping\n",
    "\n",
    "Given a QUBO objective:\n",
    "$$\n",
    "E_{\\text{QUBO}}(x) = x^T Q x = \\sum_{i,j} Q_{ij} x_i x_j\n",
    "$$\n",
    "where $x_i \\in \\{0, 1\\}$.\n",
    "\n",
    "We map $x_i$ to spin variables $z_i \\in \\{-1, +1\\}$ via:\n",
    "$$\n",
    "x_i = \\frac{1 - z_i}{2}\n",
    "$$\n",
    "\n",
    "Substitute into the QUBO objective:\n",
    "\\begin{align*}\n",
    "E_{\\text{QUBO}}(x) &= \\sum_{i,j} Q_{ij} \\left(\\frac{1 - z_i}{2}\\right)\\left(\\frac{1 - z_j}{2}\\right) \\\\\n",
    "&= \\frac{1}{4} \\sum_{i,j} Q_{ij} (1 - z_i - z_j + z_i z_j) \\\\\n",
    "&= \\text{const} + \\sum_i h_i z_i + \\sum_{i<j} J_{ij} z_i z_j\n",
    "\\end{align*}\n",
    "\n",
    "where $h_i$ and $J_{ij}$ are derived from $Q_{ij}$. This yields the Ising Hamiltonian:\n",
    "$$\n",
    "E_{\\text{Ising}}(z) = \\sum_i h_i z_i + \\sum_{i<j} J_{ij} z_i z_j + \\text{const}\n",
    "$$\n",
    "\n",
    "with the following coupling coefficients and local fields:\n",
    "$$\n",
    "J_{ij} = \\frac{1}{4}(Q_{ij} + Q_{ji})\n",
    "$$\n",
    "$$\n",
    "h_i = \\frac{1}{2} Q_{ii} + \\frac{1}{4} \\sum_{j \\neq i} (Q_{ij} + Q_{ji})\n",
    "$$\n",
    "\n",
    "***"
   ]
  },
  {
   "cell_type": "markdown",
   "id": "7e3fb4b7",
   "metadata": {},
   "source": [
    "### Example\n",
    "\n",
    "Let's consider a graph with 5 nodes and edges: (0, 1), (1, 2), (2, 3), (0, 3), (3, 4).\n"
   ]
  },
  {
   "cell_type": "code",
   "execution_count": 98,
   "id": "f72aa1e9",
   "metadata": {},
   "outputs": [
    {
     "data": {
      "image/png": "[encoded data removed]",
      "text/plain": [
       "<Figure size 400x300 with 1 Axes>"
      ]
     },
     "metadata": {},
     "output_type": "display_data"
    }
   ],
   "source": [
    "# Define the graph structure\n",
    "G = nx.Graph()\n",
    "G.add_edges_from([(0, 1), (1, 2), (2, 3), (0, 3), (3, 4)])\n",
    "\n",
    "plt.figure(figsize=(4, 3))\n",
    "nx.draw(G, with_labels=True, node_color='lightblue', node_size=600, font_weight='bold')\n",
    "plt.title(\"Example Graph for MIS\")\n",
    "plt.show()"
   ]
  },
  {
   "cell_type": "markdown",
   "id": "237b565a",
   "metadata": {},
   "source": [
    "#### QUBO Formulation\n",
    "QUBO objective (with $\\lambda$ as penalty, e.g., $\\lambda = 1$):\n",
    "$$\n",
    "\\text{minimize:} \\quad -\\sum_{i=0}^4 x_i + \\lambda (x_0 x_1 + x_1 x_2 + x_2 x_3 + x_0 x_3 + x_3 x_4)\n",
    "$$"
   ]
  },
  {
   "cell_type": "code",
   "execution_count": null,
   "id": "ae2b6c67",
   "metadata": {},
   "outputs": [
    {
     "name": "stdout",
     "output_type": "stream",
     "text": [
      "\n",
      "Bitstrings and energies (sorted):\n",
      "10101: -3\n",
      "00101: -2\n",
      "01001: -2\n",
      "01010: -2\n",
      "10001: -2\n"
     ]
    }
   ],
   "source": [
    "# Define the QUBO matrix for the given graph\n",
    "Q = np.array([\n",
    "    [-1, 1, 0, 1, 0],\n",
    "    [1, -1, 1, 0, 0],\n",
    "    [0, 1, -1, 1, 0],\n",
    "    [1, 0, 1, -1, 1],\n",
    "    [0, 0, 0, 1, -1]\n",
    "])\n",
    "\n",
    "n = Q.shape[0]\n",
    "energies = []\n",
    "\n",
    "def instance_energy(meas, Q):\n",
    "    meas = np.array(list(map(int, meas)), dtype=int)\n",
    "    diag = np.diag(Q)\n",
    "    Q_ = Q - np.diag(diag)\n",
    "    return np.dot(meas, np.dot(Q_, meas)) + np.dot(diag, meas) \n",
    "\n",
    "# Enumerate all possible bitstrings\n",
    "for i in range(2 ** n):\n",
    "    bitstring = format(i, f'0{n}b')\n",
    "    energy = instance_energy(bitstring, Q)\n",
    "    energies.append((bitstring, energy))\n",
    "\n",
    "# Sort by increasing energy\n",
    "energies.sort(key=lambda x: x[1])\n",
    "\n",
    "# Print all solutions in order of increasing energy\n",
    "print(\"\\nBitstrings and energies (sorted):\")\n",
    "for bitstring, energy in energies[:5]:\n",
    "    print(f\"{bitstring}: {energy}\")"
   ]
  },
  {
   "cell_type": "code",
   "execution_count": 100,
   "id": "c15fc41f",
   "metadata": {},
   "outputs": [
    {
     "data": {
      "image/png": "[encoded data removed]",
      "text/plain": [
       "<Figure size 400x300 with 1 Axes>"
      ]
     },
     "metadata": {},
     "output_type": "display_data"
    }
   ],
   "source": [
    "# Find the best solution (lowest energy)\n",
    "best_bitstring, best_energy = energies[0]\n",
    "\n",
    "# Create the graph corresponding to Q\n",
    "G = nx.Graph()\n",
    "G.add_nodes_from(range(n))\n",
    "# Add edges where Q[i, j] > 0 and i < j (since Q is symmetric)\n",
    "for i in range(n):\n",
    "    for j in range(i + 1, n):\n",
    "        if Q[i, j] > 0:\n",
    "            G.add_edge(i, j)\n",
    "\n",
    "# Assign colors: red for nodes in the independent set, gray otherwise\n",
    "node_colors = ['red' if best_bitstring[k] == '1' else 'lightgray' for k in range(n)]\n",
    "\n",
    "plt.figure(figsize=(4, 3))\n",
    "nx.draw(G, with_labels=True, node_color=node_colors, node_size=600, font_weight='bold')\n",
    "plt.title(f\"Best solution: {best_bitstring} (energy={best_energy})\")\n",
    "plt.show()"
   ]
  },
  {
   "cell_type": "code",
   "execution_count": 101,
   "id": "d2bdb813",
   "metadata": {},
   "outputs": [
    {
     "name": "stdout",
     "output_type": "stream",
     "text": [
      "bitstring  QUBO_energy  Ising_energy\n",
      "10101          -3.0           -3.0\n",
      "00101          -2.0           -2.0\n",
      "01001          -2.0           -2.0\n",
      "01010          -2.0           -2.0\n",
      "10001          -2.0           -2.0\n"
     ]
    }
   ],
   "source": [
    "# Convert bitstrings from {0,1} to {+1,-1} spin representation\n",
    "def bitstring_to_spin(bs):\n",
    "    # bs is a string of '0' and '1'\n",
    "    return np.array([1 if b == '1' else -1 for b in bs], dtype=int)\n",
    "\n",
    "# Calculate h and J from Q as in the markdown cell\n",
    "J = 0.25 * (Q + Q.T)\n",
    "h = np.zeros(n)\n",
    "for k in range(n):\n",
    "    h[k] = 0.5 * Q[k, k] + 0.25 * sum(Q[k, j] + Q[j, k] for j in range(n) if j != k)\n",
    "\n",
    "# Compute Ising energy for all bitstrings and compare to QUBO energy\n",
    "print(\"bitstring  QUBO_energy  Ising_energy\")\n",
    "for bs, qubo_e in energies[:5]:\n",
    "    z = bitstring_to_spin(bs)\n",
    "    ising_e = np.dot(h, z) + sum(J[i, j] * z[i] * z[j] for i in range(n) for j in range(i+1, n))\n",
    "    print(f\"{bs}    {qubo_e:10.1f}    {ising_e:11.1f}\")"
   ]
  },
  {
   "cell_type": "markdown",
   "id": "b2603fe8",
   "metadata": {},
   "source": [
    "### Tensor Product of Operators and Simplification\n",
    "\n",
    "In quantum computing, the **tensor product** (also called the Kronecker product) is used to describe operators acting on multi-qubit systems. If $A$ acts on qubit 0 and $B$ acts on qubit 1, their combined action on a two-qubit system is written as $A \\otimes B$.\n",
    "\n",
    "Suppose $A$ is a $2 \\times 2$ matrix acting on qubit 0, and $B$ is a $2 \\times 2$ matrix acting on qubit 1. The tensor product $A \\otimes B$ is a $4 \\times 4$ matrix acting on the two-qubit state. If an operator acts only on one qubit, we tensor it with the identity on the other qubits. For example, $X \\otimes I$ means apply Pauli $X$ to qubit 0 and do nothing to qubit 1. When writing operators, we often omit the explicit identity matrices for clarity. For example, instead of writing $X \\otimes I \\otimes I$ for a 3-qubit system, we simply write $X_0$, meaning \"apply $X$ to qubit 0, identity elsewhere.\"\n",
    "\n",
    "#### Evolving an Initial State\n",
    "\n",
    "Suppose we start with the two-qubit state $|00\\rangle$ and apply $X$ to qubit 0:\n",
    "$$\n",
    "|\\psi_{\\text{final}}\\rangle = (X \\otimes I) |00\\rangle = X|0\\rangle \\otimes I|0\\rangle = |1\\rangle \\otimes |0\\rangle = |10\\rangle\n",
    "$$\n",
    "\n",
    "If we apply $X$ to both qubits:\n",
    "$$\n",
    "(X \\otimes X) |00\\rangle = X|0\\rangle \\otimes X|0\\rangle = |1\\rangle \\otimes |1\\rangle = |11\\rangle\n",
    "$$\n",
    "\n",
    "In general, $A_k$ means apply operator $A$ to qubit $k$ and identity to all others and $A_k B_l$ means apply $A$ to qubit $k$, $B$ to qubit $l$, identity elsewhere. \n",
    "\n",
    "***"
   ]
  },
  {
   "cell_type": "markdown",
   "id": "11000ad7",
   "metadata": {},
   "source": [
    "In a cost Hamiltonian with $n$ qubits, a term like $Z_i Z_j$ represents the tensor product of $n$ operators, where Pauli $Z$ acts on qubits $i$ and $j$, and the identity operator $I$ acts on all other qubits. Explicitly, this is written as:\n",
    "\n",
    "$$\n",
    "Z_i Z_j = I \\otimes \\cdots \\otimes Z \\otimes \\cdots \\otimes Z \\otimes \\cdots \\otimes I\n",
    "$$\n",
    "\n",
    "where the $Z$ appears at positions $i$ and $j$, and $I$ elsewhere. For example, for $n=4$ and $i=1$, $j=3$:\n",
    "\n",
    "$$\n",
    "Z_1 Z_3 = I \\otimes Z \\otimes I \\otimes Z\n",
    "$$\n",
    "\n",
    "This tensor product structure ensures that each operator acts only on its designated qubit, while the identity acts on the rest. In quantum circuit notation, we often abbreviate $Z_i Z_j$ for clarity, but it always implies the full $n$-qubit tensor product.\n",
    "***"
   ]
  },
  {
   "cell_type": "markdown",
   "id": "8eeb483a",
   "metadata": {},
   "source": [
    "### The Quantum Approximate Optimization Algorithm (QAOA)\n",
    "\n",
    "QAOA is a hybrid quantum-classical algorithm designed to solve combinatorial optimization problems. It works by encoding the problem into a cost Hamiltonian and then using a quantum circuit to prepare a parameterized quantum state that approximates the optimal solution.\n",
    "\n",
    "#### QAOA Ansatz\n",
    "- Cost Hamiltonian $H_C$ (encodes the optimization problem)\n",
    "$$\n",
    "    H_C = \\sum_{i} h_i Z_i + \\sum_{i<j} J_{ij} Z_i Z_j\n",
    "$$\n",
    "- Mixer Hamiltonian $H_M$ (encourages exploration of the solution space)\n",
    "$$\n",
    "    H_M = \\sum_{i} X_i\n",
    "$$\n",
    "- Parameters: $\\vec{\\gamma} = (\\gamma_1, ..., \\gamma_p)$ and $\\vec{\\beta} = (\\beta_1, ..., \\beta_p)$ for $p$ layers\n",
    "\n",
    "The QAOA state is prepared as:\n",
    "$$\n",
    "|\\vec{\\gamma}, \\vec{\\beta}\\rangle = \\left[ \\prod_{l=1}^p e^{-i \\beta_l H_M} e^{-i \\gamma_l H_C} \\right] |+\\rangle^{\\otimes n}\n",
    "$$\n",
    "where $|+\\rangle^{\\otimes n}$ is the equal superposition over all $n$-qubit computational basis states which is achieved by applying a Hadamard gate on all qubits.\n",
    "\n",
    "- **$e^{-i \\gamma_l H_C}$**: Applies the cost Hamiltonian with parameter $\\gamma_l$\n",
    "- **$e^{-i \\beta_l H_M}$**: Applies the mixer Hamiltonian with parameter $\\beta_l$\n",
    "\n",
    "\n",
    "#### QAOA Objective\n",
    "\n",
    "The goal is to find parameters $(\\vec{\\gamma}^*, \\vec{\\beta}^*)$ that minimize (or maximize) the expected value of the cost Hamiltonian:\n",
    "$$\n",
    "F_p(\\vec{\\gamma}, \\vec{\\beta}) = \\langle \\vec{\\gamma}, \\vec{\\beta} | H_C | \\vec{\\gamma}, \\vec{\\beta} \\rangle\n",
    "$$\n",
    "\n",
    "This expectation is estimated by running the quantum circuit, measuring, and averaging the observed outcomes. \n",
    "A classical optimizer updates the parameters to improve the objective. QAOA alternates between applying the cost and mixer Hamiltonians, \n",
    "parameterized by $(\\vec{\\gamma}, \\vec{\\beta})$, to prepare a quantum state that encodes high-quality solutions to the optimization problem. \n",
    "The process is repeated, optimizing the parameters to maximize the probability of measuring the optimal solution.\n",
    "\n",
    "***"
   ]
  },
  {
   "cell_type": "markdown",
   "id": "a1415419",
   "metadata": {},
   "source": [
    "The cost Hamiltonian encodes the optimization problem we want to solve on the quantum computer. In the context of QAOA for the Maximum Independent Set (MIS) problem, the cost Hamiltonian is constructed so that its ground state (lowest energy state) corresponds to the largest independent set in the graph. Each term in the Hamiltonian penalizes configurations where adjacent nodes are both included in the set, while rewarding the inclusion of nodes. Thus, finding the minimum energy configuration of the cost Hamiltonian is equivalent to solving the MIS problem for the given graph."
   ]
  },
  {
   "cell_type": "markdown",
   "id": "c01803ad",
   "metadata": {},
   "source": [
    "The exponential of the cost Hamiltonian $H_C$ is given by:\n",
    "$$\n",
    "e^{-i \\gamma H_C}\n",
    "$$\n",
    "If $H_C$ is a sum of commuting terms, i.e.,\n",
    "$$\n",
    "H_C = \\sum_k H_k\n",
    "$$\n",
    "and $[H_k, H_{k'}] = 0$ for all $k, k'$, then:\n",
    "$$\n",
    "e^{-i \\gamma H_C} = e^{-i \\gamma \\sum_k H_k} = \\prod_k e^{-i \\gamma H_k}\n",
    "$$\n",
    "\n",
    "For the QAOA cost Hamiltonian (a sum of Pauli $Z$ and $ZZ$ terms) meets the condition that all terms commute and therefore we can do this factorization. The same is true about the mixer Hamiltonian.\n",
    "\n",
    "***"
   ]
  },
  {
   "cell_type": "markdown",
   "id": "a36380b1",
   "metadata": {},
   "source": [
    "### Exponentials of Pauli $Z$ and $ZZ$ as Rotations\n",
    "\n",
    "In QAOA, we apply the exponential of the cost Hamiltonian and therefore the product of the exponential of Pauli $Z$ and $ZZ$ terms. The exponentials of these terms correspond to common quantum gates that can be implemented using common open-source tools.\n",
    "\n",
    "For a single-qubit term $h Z_k$, the exponential is:\n",
    "$$\n",
    "e^{-i \\gamma h Z_k} = R_z(2\\gamma h)\n",
    "$$\n",
    "where $R_z(\\theta) = e^{-i \\theta Z / 2}$ is the single-qubit rotation around the $Z$ axis by angle $\\theta$. Thus, exponentiating a $Z$ term is just a $Z$-rotation. The same is true about the X terms, that \n",
    "\n",
    "$$\n",
    "e^{-i \\beta h X_k} = R_x(2\\beta h)\n",
    "$$\n",
    "\n",
    "where $R_x(\\theta) = e^{-i \\theta X / 2}$ is the single-qubit rotation around the $X$ axis by angle $\\theta$.\n",
    "\n",
    "For a two-qubit term $J Z_k Z_l$, the exponential is:\n",
    "$$\n",
    "e^{-i \\gamma J Z_k Z_l}\n",
    "$$\n",
    "This is a two-qubit entangling gate. Recall that $Z_k Z_l$ is diagonal in the computational basis, with eigenvalues $\\pm1$ depending on the parity of the two qubits. The action of $e^{-i \\gamma J Z_k Z_l}$ is to apply a phase $e^{-i \\gamma J}$ if the parity is even ($00$ or $11$), and $e^{i \\gamma J}$ if the parity is odd ($01$ or $10$).\n",
    "\n",
    "In Qiskit, this is implemented as the `RZZ` gate:\n",
    "$$\n",
    "RZZ(\\theta) = e^{-i \\frac{\\theta}{2} Z \\otimes Z}\n",
    "$$\n",
    "So, to match $e^{-i \\gamma J Z_k Z_l}$, set $\\theta = 2\\gamma J$. The two qubit rotation operator can be expressed as the matrix product of CNOT operators and single qubit rotation. Let's show that explicitly. Suppose we have an arbitrary two-qubit state $|\\psi\\rangle\\psi$\n",
    "\n",
    "$$\n",
    "|\\psi\\rangle = a |00\\rangle + b |10\\rangle + c |01\\rangle + d |11\\rangle\n",
    "$$\n",
    "\n",
    "The $e^{-i \\gamma J Z_1 Z_2}$ term has the effect of introducing $\\pm1$ depending on the value of the qubit 1 and 2.\n",
    "\n",
    "$$\n",
    "e^{-i \\gamma J Z_1 Z_2}|\\psi\\rangle = a e^{-i \\gamma J Z_1 Z_2}|00\\rangle + b e^{-i \\gamma J Z_1 Z_2}|10\\rangle + c e^{-i \\gamma J Z_1 Z_2}|01\\rangle + d e^{-i \\gamma J Z_1 Z_2}|11\\rangle \\\\\n",
    "e^{-i \\gamma J Z_1 Z_2}|\\psi\\rangle = a e^{-i \\gamma J}|00\\rangle + b e^{i \\gamma J}|10\\rangle + c e^{i \\gamma J}|01\\rangle + d e^{-i \\gamma J}|11\\rangle\n",
    "$$\n",
    "\n",
    "The sign of the second and third term change because the $Z_1 Z_2$ product is negative for them. The `RZZ` gate is implemented as a single qubit rotation with a CNOT gate applied before and after.\n",
    "\n",
    "$$\n",
    "CX e^{-i \\gamma J Z_2} CX|\\psi\\rangle = CX e^{-i \\gamma J Z_2} CX \\left( a |00\\rangle + b |10\\rangle + c |01\\rangle + d |11\\rangle \\right)\\\\ \\\\\n",
    "\\,\\\\\n",
    "CX e^{-i \\gamma J Z_2} CX|\\psi\\rangle = CX e^{-i \\gamma J Z_2} \\left( a |00\\rangle + b |11\\rangle + c |01\\rangle + d |10\\rangle \\right) \\\\\n",
    "\\,\\\\\n",
    "CX e^{-i \\gamma J Z_2} CX|\\psi\\rangle = CX  \\left( a e^{-i \\gamma J}|00\\rangle + b e^{i \\gamma J}|11\\rangle + c e^{i \\gamma J}|01\\rangle + d e^{-i \\gamma J}|10\\rangle \\right) \\\\\n",
    "\\,\\\\\n",
    "CX e^{-i \\gamma J Z_2} CX|\\psi\\rangle = \\left( a e^{-i \\gamma J}|00\\rangle + b e^{i \\gamma J}|10\\rangle + c e^{i \\gamma J}|01\\rangle + d e^{-i \\gamma J}|11\\rangle \\right) \\\\\n",
    "\\,\\\\\n",
    "CX e^{-i \\gamma J Z_2} CX|\\psi\\rangle = e^{-i \\gamma J Z_1 Z_2}|\\psi\\rangle \\\\\n",
    "$$\n",
    "\n",
    "***"
   ]
  },
  {
   "cell_type": "markdown",
   "id": "1ac76a19",
   "metadata": {},
   "source": [
    "Now let's dive into coding the QAOA algorithm."
   ]
  },
  {
   "cell_type": "code",
   "execution_count": 102,
   "id": "4d9f3eca",
   "metadata": {},
   "outputs": [],
   "source": [
    "def qubo_matrix_to_ising_cost_terms(Q: np.ndarray) -> list:\n",
    "    \"\"\"\n",
    "    Converts a QUBO matrix Q into a list of Pauli Z and ZZ terms\n",
    "    with their coefficients, suitable for constructing an Ising Hamiltonian.\n",
    "\n",
    "    Args:\n",
    "        Q (np.ndarray): The square N x N QUBO matrix.\n",
    "                               Q[i,j] represents the coefficient of x_i * x_j.\n",
    "\n",
    "    Returns:\n",
    "        list: A list of dictionaries, where each dictionary defines a term\n",
    "              in the cost Hamiltonian in the format:\n",
    "              {'coeff': float, 'pauli': str, 'qubits': list}\n",
    "    \"\"\"\n",
    "    num_qubits = Q.shape[0]\n",
    "    cost_terms = []\n",
    "\n",
    "    # Calculate coefficients for ZZ terms (J_kl)\n",
    "    for k in range(num_qubits):\n",
    "        for l in range(k + 1, num_qubits): # Iterate for k < l\n",
    "            # J_kl = 1/4 * (Q_kl + Q_lk)\n",
    "            J_kl = 0.25 * (Q[k, l] + Q[l, k])\n",
    "            if J_kl != 0:\n",
    "                cost_terms.append({'coeff': J_kl, 'pauli': 'ZZ', 'qubits': [k, l]})\n",
    "\n",
    "    # Calculate coefficients for Z terms (h_k)\n",
    "    for k in range(num_qubits):\n",
    "        h_k = 0.5 * Q[k, k] # Contribution from diagonal Q_kk\n",
    "        \n",
    "        # Contribution from off-diagonal terms Q_kj and Q_jk\n",
    "        for j in range(num_qubits):\n",
    "            if j != k:\n",
    "                h_k += 0.25 * Q[k, j]\n",
    "        \n",
    "        if h_k != 0:\n",
    "            cost_terms.append({'coeff': h_k, 'pauli': 'Z', 'qubits': [k]})\n",
    "\n",
    "    return cost_terms\n"
   ]
  },
  {
   "cell_type": "markdown",
   "id": "25256061",
   "metadata": {},
   "source": [
    "To see the list of Ising cost terms for our QUBO matrix, we call the function `qubo_matrix_to_ising_cost_terms(Q)`. This shows the decomposition of the QUBO into Ising Hamiltonian terms, with each term specifying its coefficient, Pauli type, and the qubits it acts on.\n"
   ]
  },
  {
   "cell_type": "code",
   "execution_count": 103,
   "id": "63253ca7",
   "metadata": {},
   "outputs": [
    {
     "name": "stdout",
     "output_type": "stream",
     "text": [
      "{'coeff': np.float64(0.5), 'pauli': 'ZZ', 'qubits': [0, 1]}\n",
      "{'coeff': np.float64(0.5), 'pauli': 'ZZ', 'qubits': [0, 3]}\n",
      "{'coeff': np.float64(0.5), 'pauli': 'ZZ', 'qubits': [1, 2]}\n",
      "{'coeff': np.float64(0.5), 'pauli': 'ZZ', 'qubits': [2, 3]}\n",
      "{'coeff': np.float64(0.5), 'pauli': 'ZZ', 'qubits': [3, 4]}\n",
      "{'coeff': np.float64(0.25), 'pauli': 'Z', 'qubits': [3]}\n",
      "{'coeff': np.float64(-0.25), 'pauli': 'Z', 'qubits': [4]}\n"
     ]
    }
   ],
   "source": [
    "\n",
    "cost_terms = qubo_matrix_to_ising_cost_terms(Q)\n",
    "for term in cost_terms:\n",
    "    print(term)\n",
    "\n"
   ]
  },
  {
   "cell_type": "code",
   "execution_count": 104,
   "id": "f4e837ef",
   "metadata": {},
   "outputs": [],
   "source": [
    "def create_qaoa_circuit(num_qubits: int, cost_terms: list, p: int = 1, add_measurement: bool = True,\n",
    "                        params: list = None\n",
    "                        ) -> QuantumCircuit:\n",
    "    \"\"\"\n",
    "    Creates a Qiskit quantum circuit for a general QUBO problem\n",
    "    using the QAOA ansatz.\n",
    "\n",
    "    Args:\n",
    "        num_qubits (int): The number of qubits, corresponding to the size of the QUBO problem.\n",
    "        cost_terms (list): A list of dictionaries, where each dictionary defines a term\n",
    "                           in the cost Hamiltonian.\n",
    "                           Each dictionary should have:\n",
    "                           - 'coeff' (float): The coefficient for the Pauli term.\n",
    "                           - 'pauli' (str): 'Z' for single-qubit Z, 'ZZ' for two-qubit ZZ.\n",
    "                           - 'qubits' (list): A list of qubit indices the Pauli term acts on.\n",
    "                                              e.g., [0] for Z_0, [0, 1] for Z_0Z_1.\n",
    "        p (int): The number of QAOA layers. Each layer consists of a cost unitary\n",
    "                 and a mixer unitary.\n",
    "\n",
    "    Returns:\n",
    "        QuantumCircuit: The Qiskit quantum circuit for QAOA.\n",
    "    \"\"\"\n",
    "\n",
    "    qc = QuantumCircuit(num_qubits, num_qubits)\n",
    "\n",
    "    # Define variational parameters for each layer\n",
    "    gammas = [params[i] for i in range(p)]\n",
    "    betas = [params[i + p] for i in range(p)]\n",
    "\n",
    "    # 1. Initial State Preparation: Apply Hadamard gates to all qubits\n",
    "    # This creates an equal superposition of all computational basis states.\n",
    "    qc.h(range(num_qubits))\n",
    "\n",
    "    # Loop for 'p' QAOA layers\n",
    "    for layer in range(p):\n",
    "        # 2. Cost Unitary (U_C(gamma)): Implements the problem Hamiltonian\n",
    "        # The unitary for a Pauli term P with coefficient C is e^(-i * gamma * C * P).\n",
    "        # Qiskit's RZGate implements e^(-i * theta/2 * Z), so we use 2 * theta.\n",
    "        # Qiskit's RZZGate implements e^(-i * theta/2 * Z_i * Z_j), so we use 2 * theta.\n",
    "        for term in cost_terms:\n",
    "            coeff = term['coeff']\n",
    "            pauli_type = term['pauli']\n",
    "            qubits = term['qubits']\n",
    "\n",
    "            if pauli_type == 'Z':\n",
    "                # Apply RZ gate for single-qubit Z terms\n",
    "                # Angle is 2 * gamma * coeff\n",
    "                qc.rz(2 * gammas[layer] * coeff, qubits[0])\n",
    "            elif pauli_type == 'ZZ':\n",
    "                # Apply RZZ gate for two-qubit ZZ terms\n",
    "                # Angle is 2 * gamma * coeff\n",
    "                qc.rzz(2 * gammas[layer] * coeff, qubits[0], qubits[1])\n",
    "            elif pauli_type == 'ZZZ':\n",
    "                i, j, k = qubits\n",
    "                # Apply RZZ gate for three-qubit ZZZ terms\n",
    "                # Angle is 2 * gamma * coeff\n",
    "                # this is not used in this example, but for future reference if you want to work on a higher order Hamiltonian\n",
    "                qc.cx(qubits[0], qubits[1])\n",
    "                qc.rzz(2 * gammas[layer] * coeff, qubits[1], qubits[2])\n",
    "                qc.cx(qubits[0], qubits[1])\n",
    "            else:\n",
    "                raise ValueError(f\"Unsupported Pauli type: {pauli_type}. Only 'Z' and 'ZZ' are supported.\")\n",
    "\n",
    "        # 3. Mixer Unitary (U_M(beta)): Implements the mixing Hamiltonian\n",
    "        # The standard mixer Hamiltonian is sum(X_k) over all qubits k.\n",
    "        # The unitary is product(e^(-i * beta * X_k)).\n",
    "        # Qiskit's RXGate implements e^(-i * theta/2 * X_k), so we use 2*beta.\n",
    "        for k in range(num_qubits):\n",
    "            qc.rx(2 * betas[layer], k) # Apply RX gate to each qubit\n",
    "\n",
    "    if add_measurement:\n",
    "        qc.barrier(range(num_qubits))\n",
    "        qc.measure(range(num_qubits), range(num_qubits))\n",
    "    return qc\n"
   ]
  },
  {
   "cell_type": "markdown",
   "id": "c3587ef3",
   "metadata": {},
   "source": [
    "To visualize the QAOA circuit for our target QUBO, we first generate the Ising cost terms and then create the circuit using `create_qaoa_circuit`. Here is how you can display the circuit for $p=1$:"
   ]
  },
  {
   "cell_type": "code",
   "execution_count": 105,
   "id": "7477f677",
   "metadata": {},
   "outputs": [
    {
     "data": {
      "image/png": "[encoded data removed]",
      "text/plain": [
       "<Figure size 1708.89x535.111 with 1 Axes>"
      ]
     },
     "execution_count": 105,
     "metadata": {},
     "output_type": "execute_result"
    }
   ],
   "source": [
    "cost_terms = qubo_matrix_to_ising_cost_terms(Q)\n",
    "qc = create_qaoa_circuit(n, cost_terms, p=1, add_measurement=True, params=[0.5, 0.5])\n",
    "qc.draw('mpl')"
   ]
  },
  {
   "cell_type": "markdown",
   "id": "cec63e5c",
   "metadata": {},
   "source": [
    "Now we are ready to put everything together and use our QAOA implementation to solve the Maximum Independent Set problem. We have:\n",
    "\n",
    "- Formulated the problem as a QUBO and converted it to the Ising form.\n",
    "- Generated the corresponding cost Hamiltonian terms.\n",
    "- Built a QAOA circuit construction function.\n",
    "\n",
    "With these components, we can run the QAOA algorithm, optimize its parameters, and analyze the results to find high-quality solutions to our combinatorial optimization problem. Before running the QAOA optimization, we need to define a few additional helper functions:\n",
    "\n",
    "- Bitstring inversion: Qiskit returns measurement results with the least significant bit (qubit 0) on the right, but for analysis and visualization, it is often more convenient to have qubit 0 on the left. A helper function will invert the bit order in the measurement results.\n",
    "- Circuit execution: A function is needed to execute the quantum circuit on a simulator backend and return the measurement counts in the desired bit order.\n",
    "- Solution evaluation: To assess the quality of solutions produced by QAOA, we require functions to compute the QUBO energy for each bitstring and to calculate the average energy over all measured outcomes.\n",
    "\n",
    "These utilities streamline the workflow and make it easier to analyze and interpret the results of the quantum optimization algorithm."
   ]
  },
  {
   "cell_type": "code",
   "execution_count": 106,
   "id": "7ac09da8",
   "metadata": {},
   "outputs": [],
   "source": [
    "def invert_counts(counts):\n",
    "    # This function takes a dictionary of measurement counts (bitstrings as keys)\n",
    "    # and reverses each bitstring. In Qiskit, measurement results are returned\n",
    "    # with the least significant bit (qubit 0) on the right, but often we want\n",
    "    # to display or process bitstrings with qubit 0 on the left. This function\n",
    "    # flips the bit order for all keys in the counts dictionary.\n",
    "    return {k[::-1]:v for k, v in counts.items()}\n",
    "\n",
    "\n",
    "def execute(qc, backend, **kwargs):\n",
    "    \"\"\"\n",
    "    Executes a Qiskit quantum circuit on the specified backend and returns the measurement counts\n",
    "    with bitstrings in standard order (qubit 0 as leftmost bit).\n",
    "\n",
    "    Args:\n",
    "        qc (QuantumCircuit): The quantum circuit to execute.\n",
    "        backend: The Qiskit backend to run the circuit on.\n",
    "        **kwargs: Additional keyword arguments to pass to backend.run(), such as 'shots'.\n",
    "\n",
    "    Returns:\n",
    "        dict: A dictionary mapping bitstrings (with qubit 0 on the left) to their observed counts.\n",
    "    \"\"\"\n",
    "    shots = kwargs.pop('shots', 10000)\n",
    "    job = backend.run(qc, shots=shots, **kwargs) # Using backend.run()\n",
    "    result = job.result()\n",
    "    counts = result.get_counts(qc)\n",
    "    return invert_counts(counts)\n",
    "\n",
    "\n",
    "def compute_energy(counts, Q):\n",
    "    return sum(instance_energy(meas, Q) * cnt for meas, cnt in counts.items()) / sum(counts.values())\n"
   ]
  },
  {
   "cell_type": "markdown",
   "id": "ba8b4f73",
   "metadata": {},
   "source": [
    "In this section, we use Qiskit's `Aer` simulator to emulate a gate-based quantum computer. The simulator allows us to run quantum circuits and obtain measurement results as if they were executed on real quantum hardware.\n",
    "\n",
    "To optimize the QAOA circuit, we define an objective function that takes a set of circuit parameters as input and returns the expected energy of the solution, computed as the average QUBO energy over all measured bitstrings. This expected energy serves as the cost function for the classical optimizer, which seeks to find the parameter values that minimize it. By minimizing the expected energy, we increase the probability of measuring bitstrings corresponding to high-quality (low-energy) solutions of the original optimization problem."
   ]
  },
  {
   "cell_type": "markdown",
   "id": "dfa2b153",
   "metadata": {},
   "source": [
    "We then use the `scipy.optimize.minimize` function with the COBYLA method to optimize the parameters of the QAOA circuit. The optimizer iteratively updates the circuit parameters to minimize the expected energy of the measured bitstrings, as computed by our objective function. This hybrid quantum-classical approach allows us to find parameter values that maximize the probability of sampling high-quality solutions to the Maximum Independent Set problem."
   ]
  },
  {
   "cell_type": "code",
   "execution_count": 107,
   "id": "e1892358",
   "metadata": {},
   "outputs": [
    {
     "name": "stdout",
     "output_type": "stream",
     "text": [
      " message: Optimization terminated successfully.\n",
      " success: True\n",
      "  status: 1\n",
      "     fun: -1.5365\n",
      "       x: [ 4.300e+00  2.482e+00  1.680e+00  2.637e+00]\n",
      "    nfev: 56\n",
      "   maxcv: 0.0\n"
     ]
    }
   ],
   "source": [
    "p = 2 # Number of QAOA layers\n",
    "backend = Aer.get_backend('qasm_simulator')\n",
    "n = len(Q)\n",
    "# \n",
    "def objective(theta):\n",
    "    ising_cost_terms = qubo_matrix_to_ising_cost_terms(Q)\n",
    "    qc = create_qaoa_circuit(n, ising_cost_terms, p, add_measurement=True, params=theta)\n",
    "    counts = execute(qc, backend, shots=10000)\n",
    "    return compute_energy(counts, Q)\n",
    "\n",
    "init_point = np.random.uniform(0, 2 * np.pi, 2 * p)\n",
    "\n",
    "res_sample = minimize(objective, init_point, method='COBYLA', options={'maxiter':5000, 'disp': True})\n",
    "print(res_sample)\n"
   ]
  },
  {
   "cell_type": "markdown",
   "id": "a56f662e",
   "metadata": {},
   "source": [
    "After the QAOA parameters have been optimized using the classical optimizer, we take the resulting best parameters and run the QAOA circuit again with a large number of measurement shots. This allows us to sample the output distribution and analyze which bitstrings (candidate solutions) are most frequently observed. By examining the measurement results, we can identify the most probable solutions and compare their energies to the true minimum found by brute-force search. This step provides insight into the quality of solutions produced by the QAOA algorithm and how well it approximates the optimal answer to the Maximum Independent Set problem."
   ]
  },
  {
   "cell_type": "code",
   "execution_count": 108,
   "id": "03c5f5b4",
   "metadata": {},
   "outputs": [
    {
     "name": "stdout",
     "output_type": "stream",
     "text": [
      "10101: energy=-3, count=25.61%\n",
      "00101: energy=-2, count=5.19%\n",
      "01010: energy=-2, count=5.59%\n",
      "01001: energy=-2, count=11.28%\n",
      "10001: energy=-2, count=5.00%\n",
      "10100: energy=-2, count=2.47%\n",
      "Brute-force minimum: 10101 with energy=-3\n"
     ]
    }
   ],
   "source": [
    "\n",
    "backend = Aer.get_backend('qasm_simulator')\n",
    "ising_cost_terms = qubo_matrix_to_ising_cost_terms(Q)\n",
    "qc = create_qaoa_circuit(n, ising_cost_terms, p, add_measurement=True, params=res_sample.x)\n",
    "counts = execute(qc, backend, shots=100000)\n",
    "\n",
    "sorted_counts = sorted(counts.items(), key=lambda x: instance_energy(x[0], Q), reverse=False)\n",
    "for bs, cnt in sorted_counts[:6]:\n",
    "    energy = instance_energy(bs, Q)\n",
    "    print(f\"{bs}: energy={energy}, count={cnt / sum(counts.values()) * 100:.2f}%\")\n",
    "\n",
    "# Brute-force search for minimum energy bitstring\n",
    "min_energy = float('inf')\n",
    "min_bitstring = None\n",
    "for i in range(2 ** n):\n",
    "    bitstring = format(i, f'0{n}b')\n",
    "    energy = instance_energy(bitstring, Q)\n",
    "    if energy < min_energy:\n",
    "        min_energy = energy\n",
    "        min_bitstring = bitstring\n",
    "print(f\"Brute-force minimum: {min_bitstring} with energy={min_energy}\")"
   ]
  },
  {
   "cell_type": "code",
   "execution_count": 109,
   "id": "34b981e3",
   "metadata": {},
   "outputs": [
    {
     "data": {
      "image/png": "[encoded data removed]",
      "text/plain": [
       "<Figure size 1400x500 with 1 Axes>"
      ]
     },
     "metadata": {},
     "output_type": "display_data"
    }
   ],
   "source": [
    "import matplotlib.pyplot as plt\n",
    "\n",
    "# Prepare data for plotting\n",
    "bitstrings = list(counts.keys())\n",
    "frequencies = [counts[bs] for bs in bitstrings]\n",
    "\n",
    "# Identify the best solution(s)\n",
    "best_solutions = [best_bitstring] if best_bitstring in counts else []\n",
    "# Optionally, highlight all bitstrings with minimum energy\n",
    "min_energy_val = min(energy for _, energy in energies)\n",
    "best_bitstrings = [bs for bs, energy in energies if energy == min_energy_val]\n",
    "\n",
    "# Assign colors: highlight best solutions, others as blue\n",
    "bar_colors = ['green' if bs in best_bitstrings else 'blue' for bs in bitstrings]\n",
    "\n",
    "plt.figure(figsize=(14, 5))\n",
    "bars = plt.bar(bitstrings, frequencies, color=bar_colors)\n",
    "plt.xlabel('Bitstring')\n",
    "plt.ylabel('Counts')\n",
    "plt.title('QAOA Measurement Results')\n",
    "\n",
    "# Annotate the best solution(s)\n",
    "for idx, bs in enumerate(bitstrings):\n",
    "    if bs in best_bitstrings:\n",
    "        plt.text(idx, frequencies[idx], '★', ha='center', va='bottom', color='green', fontsize=14)\n",
    "\n",
    "plt.xticks(rotation=90)\n",
    "plt.tight_layout()\n",
    "plt.show()"
   ]
  },
  {
   "cell_type": "markdown",
   "id": "0fab8085",
   "metadata": {},
   "source": [
    "We now investigate how the number of QAOA layers ($p$) affects the algorithm's performance. For each value of $p$, we repeatedly optimize the QAOA circuit parameters from random initial points, run the optimized circuit, and record the success rate—defined as the probability of measuring the true optimal solution (the bitstring(s) with minimum energy). By aggregating results over multiple trials for each $p$, we can analyze the median success rate and its variability. Finally, we plot the success rate as a function of the number of QAOA layers to visualize how increasing circuit depth impacts the likelihood of finding the best solution."
   ]
  },
  {
   "cell_type": "code",
   "execution_count": 110,
   "id": "8bd07b12",
   "metadata": {},
   "outputs": [
    {
     "data": {
      "image/png": "[encoded data removed]",
      "text/plain": [
       "<Figure size 800x500 with 1 Axes>"
      ]
     },
     "metadata": {},
     "output_type": "display_data"
    }
   ],
   "source": [
    "success_rates = []\n",
    "error_bars = []\n",
    "\n",
    "from collections import defaultdict\n",
    "all_parameters = defaultdict(list)\n",
    "num_trials = 20\n",
    "layer_range = [1, 2, 3, 4, 5, 6]\n",
    "shots = 5000  # Lower shots for speed, increase if needed\n",
    "\n",
    "# The best solution(s) are those with minimum energy\n",
    "min_energy_val = min(energy for _, energy in energies)\n",
    "best_bitstrings = [bs for bs, energy in energies if energy == min_energy_val]\n",
    "\n",
    "for p_val in layer_range:\n",
    "    trial_success = []\n",
    "    for _ in range(num_trials):\n",
    "        # Random initial parameters for each trial\n",
    "        theta_init = np.random.uniform(0, 2 * np.pi, 2 * p_val)\n",
    "        ising_cost_terms = qubo_matrix_to_ising_cost_terms(Q)\n",
    "\n",
    "        # Define objective for this p_val\n",
    "        def objective(theta):\n",
    "            qc = create_qaoa_circuit(n, ising_cost_terms, p=p_val, add_measurement=True, params=theta)\n",
    "            counts = execute(qc, backend, shots=shots)\n",
    "            return compute_energy(counts, Q)\n",
    "\n",
    "        # Optimize QAOA parameters\n",
    "        res = minimize(objective, theta_init, method='COBYLA', options={'maxiter': 500, 'disp': False})\n",
    "\n",
    "        # Use optimized parameters to run QAOA and get counts\n",
    "        qc = create_qaoa_circuit(n, ising_cost_terms, p=p_val, add_measurement=True, params=res.x)\n",
    "        all_parameters[p_val].append(res.x)\n",
    "        counts = execute(qc, backend, shots=shots)\n",
    "        total = sum(counts.values())\n",
    "        success = sum(counts.get(bs, 0) for bs in best_bitstrings) / total\n",
    "        trial_success.append(success)\n",
    "    # Median and error bars (25th and 75th percentiles)\n",
    "    median = np.median(trial_success)\n",
    "    q25 = np.percentile(trial_success, 25)\n",
    "    q75 = np.percentile(trial_success, 75)\n",
    "    success_rates.append(median)\n",
    "    error_bars.append([[median - q25], [q75 - median]])\n",
    "\n",
    "# Convert error_bars to numpy array for plotting\n",
    "error_bars = np.array(error_bars).squeeze().T\n",
    "\n",
    "plt.figure(figsize=(8, 5))\n",
    "plt.errorbar(layer_range, success_rates, yerr=error_bars, fmt='-o', capsize=5, color='purple')\n",
    "plt.xlabel('Number of QAOA Layers (p)')\n",
    "plt.ylabel('Median Success Rate')\n",
    "plt.title('QAOA Success Rate vs. Number of Layers')\n",
    "# plt.ylim(0, 1)\n",
    "plt.grid(True)\n",
    "plt.show()"
   ]
  },
  {
   "cell_type": "markdown",
   "id": "57fee952",
   "metadata": {},
   "source": [
    "As observed in the results, increasing the number of QAOA layers generally improves the performance. Note that each run may result in a different trend. Sometimes the change from 1 to 2 leads to a significant improvement in the success rate of finding the optimal solution, while further increasing the number of layers yields only marginal gains. This diminishing return is especially important to consider because the computational cost and optimization time grow rapidly with circuit depth. Also, we need to make sure that the lack of improvement is not due to pre-mature optimization. Due to the larger number of parameters and the highly non-lienar nature of the optimization, we expect the optimization to not be successful every time, especially because we use finite number of samples to estimate the cost function\n"
   ]
  }
 ],
 "metadata": {
  "kernelspec": {
   "display_name": "venv",
   "language": "python",
   "name": "python3"
  },
  "language_info": {
   "codemirror_mode": {
    "name": "ipython",
    "version": 3
   },
   "file_extension": ".py",
   "mimetype": "text/x-python",
   "name": "python",
   "nbconvert_exporter": "python",
   "pygments_lexer": "ipython3",
   "version": "3.11.0"
  }
 },
 "nbformat": 4,
 "nbformat_minor": 5
}
